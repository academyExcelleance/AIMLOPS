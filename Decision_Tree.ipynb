{
  "nbformat": 4,
  "nbformat_minor": 0,
  "metadata": {
    "colab": {
      "provenance": [],
      "authorship_tag": "ABX9TyMzKI8qGPWeHSk1UeoQFOhz",
      "include_colab_link": true
    },
    "kernelspec": {
      "name": "python3",
      "display_name": "Python 3"
    },
    "language_info": {
      "name": "python"
    }
  },
  "cells": [
    {
      "cell_type": "markdown",
      "metadata": {
        "id": "view-in-github",
        "colab_type": "text"
      },
      "source": [
        "<a href=\"https://colab.research.google.com/github/academyExcelleance/AIMLOPS/blob/master/Decision_Tree.ipynb\" target=\"_parent\"><img src=\"https://colab.research.google.com/assets/colab-badge.svg\" alt=\"Open In Colab\"/></a>"
      ]
    },
    {
      "cell_type": "markdown",
      "source": [
        "**Decision Tree is Classification/Regression algorithm ?**"
      ],
      "metadata": {
        "id": "5VjemLpg0uG9"
      }
    },
    {
      "cell_type": "markdown",
      "source": [
        "**What is gini impurity ?**"
      ],
      "metadata": {
        "id": "clnMphJ00-v4"
      }
    },
    {
      "cell_type": "markdown",
      "source": [
        "**Why CART is greedy algorithm ?**"
      ],
      "metadata": {
        "id": "H3w-3_FZ1vog"
      }
    },
    {
      "cell_type": "markdown",
      "source": [
        "**What are the DT attributes ?**"
      ],
      "metadata": {
        "id": "tt4BGy2T129Y"
      }
    },
    {
      "cell_type": "markdown",
      "source": [
        "**Evaluation metrics for classification problems**"
      ],
      "metadata": {
        "id": "gTNjmHDO2Inh"
      }
    },
    {
      "cell_type": "markdown",
      "source": [],
      "metadata": {
        "id": "TUoWHonk5-DY"
      }
    }
  ]
}